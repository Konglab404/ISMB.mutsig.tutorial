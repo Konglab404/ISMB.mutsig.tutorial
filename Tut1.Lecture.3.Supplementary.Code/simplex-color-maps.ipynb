{
 "cells": [
  {
   "cell_type": "markdown",
   "metadata": {},
   "source": [
    "# Simplex Heatmaps: $\\Delta^2$"
   ]
  },
  {
   "cell_type": "code",
   "execution_count": null,
   "metadata": {},
   "outputs": [],
   "source": [
    "# Source adapted from \n",
    "# https://gist.github.com/agitter/46b2169a035ad25b5d2b024a00344d54\n",
    "\n",
    "from simplex_plots import *"
   ]
  },
  {
   "cell_type": "markdown",
   "metadata": {},
   "source": [
    "## Dirichlet density plots"
   ]
  },
  {
   "cell_type": "code",
   "execution_count": null,
   "metadata": {
    "scrolled": false
   },
   "outputs": [],
   "source": [
    "alpha_iterable = [[0.999]*3, [1,3,2], [2,5,15], [10,1,1]]\n",
    "\n",
    "for alpha in alpha_iterable:\n",
    "    plot_dirichlet(alpha)"
   ]
  },
  {
   "cell_type": "markdown",
   "metadata": {},
   "source": [
    "## Exploring divergence metrics"
   ]
  },
  {
   "cell_type": "code",
   "execution_count": null,
   "metadata": {},
   "outputs": [],
   "source": [
    "alpha_iterable = [[1,0,0], [1/3]*3, [0.5, 0.25, 0.25]]\n",
    "\n",
    "for alpha in alpha_iterable:\n",
    "    plot_similarity(alpha, option='cosine')"
   ]
  },
  {
   "cell_type": "code",
   "execution_count": null,
   "metadata": {},
   "outputs": [],
   "source": [
    "alpha_iterable = [[1,0,0], [1/3]*3, [0.5, 0.25, 0.25]]\n",
    "\n",
    "for alpha in alpha_iterable:\n",
    "    plot_similarity(alpha, option='jensen-shannon')"
   ]
  }
 ],
 "metadata": {
  "kernelspec": {
   "display_name": "Python [conda env:anaconda3-boosting_env]",
   "language": "python",
   "name": "conda-env-anaconda3-boosting_env-py"
  },
  "language_info": {
   "codemirror_mode": {
    "name": "ipython",
    "version": 3
   },
   "file_extension": ".py",
   "mimetype": "text/x-python",
   "name": "python",
   "nbconvert_exporter": "python",
   "pygments_lexer": "ipython3",
   "version": "3.6.7"
  }
 },
 "nbformat": 4,
 "nbformat_minor": 2
}
